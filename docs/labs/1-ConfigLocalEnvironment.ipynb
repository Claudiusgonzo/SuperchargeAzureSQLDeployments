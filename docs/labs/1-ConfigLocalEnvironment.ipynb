{
    "metadata": {
        "kernelspec": {
            "name": "powershell",
            "display_name": "PowerShell"
        },
        "language_info": {
            "name": "powershell",
            "codemirror_mode": "shell",
            "mimetype": "text/x-sh",
            "file_extension": ".ps1"
        }
    },
    "nbformat_minor": 2,
    "nbformat": 4,
    "cells": [
        {
            "cell_type": "markdown",
            "source": [
                "## Lab 1 - Configure your Local Environment\r\n",
                "--------------------------------\r\n",
                "\r\n",
                "| Lab Description | This lab covers the installation of tools that you will you in the labs. |\r\n",
                "| :------------ | :-------------- |\r\n",
                "| Estimated Time to Complete | 20 minutes |\r\n",
                "| Key Takeaways | 1. Download and install the required tools |\r\n",
                "|  | 2. Know what version of the tools are installed |\r\n",
                "|  | By the end of this lab, you should have: Git, Visual Studio - SSDT, Visual Studio Code, Azure PowerShell, SSMS, Azure Data Studio, SQLPackage.exe |\r\n",
                "| Author | Frank Garofalo |\r\n",
                "\r\n",
                "### Purpose\r\n",
                "\r\n",
                "For those new to DevOps, Source Control, and Database Projects\r\n",
                "there are many tools that you need to familiarize yourself with. This modules\r\n",
                "walks you through installing and configuring the required tools for this lab, as well as making sure they are on the current supported versions.\r\n",
                "\r\n",
                "## Exercise - Setup Az PowerShell Module\r\n",
                "\r\n",
                "### Launch PowerShell\r\n",
                "\r\n",
                "1.  Right Click on **Windows PowerShell** from either the Desktop or the\r\n",
                "    Start Menu\r\n",
                "\r\n",
                "2.  Select **Run as Administrator**\r\n",
                "\r\n",
                "### Set PowerShell Execution Policy\r\n",
                "\r\n",
                "1.  Run the following PowerShell Command to set your execution policy to\r\n",
                "    Unrestricted:"
            ],
            "metadata": {
                "azdata_cell_guid": "0945a1e7-c7af-41b4-aade-20941feb6601"
            }
        },
        {
            "cell_type": "code",
            "source": [
                "Set-ExecutionPolicy Unrestricted"
            ],
            "metadata": {
                "azdata_cell_guid": "b3846e2f-585e-47bd-ab9c-7ba52244b428"
            },
            "outputs": [],
            "execution_count": 0
        },
        {
            "cell_type": "markdown",
            "source": [
                "2.  Select Yes if prompted. Execution policies determine whether you can\r\n",
                "    load configuration files, such as your PowerShell profile, or run\r\n",
                "    scripts and whether scripts must be digitally signed before they are\r\n",
                "    run. More information on this topic can be found here:\r\n",
                "    <https://docs.microsoft.com/en-us/powershell/module/microsoft.powershell.security/set-executionpolicy?view=powershell-6#parameters>\r\n",
                "\r\n",
                "### Install Az Module\r\n",
                "\r\n",
                "1.  Run the following PowerShell Command:\r\n",
                ""
            ],
            "metadata": {
                "azdata_cell_guid": "80e6a6c5-4302-4001-bc34-0a21a343438d"
            }
        },
        {
            "cell_type": "code",
            "source": [
                "Install-Module -Name 'Az'"
            ],
            "metadata": {
                "azdata_cell_guid": "c5395a46-1a1d-4508-897d-e58c0a69016c"
            },
            "outputs": [],
            "execution_count": 0
        },
        {
            "cell_type": "markdown",
            "source": [
                "\r\n",
                "2.  If not already installed, you may be prompted to install the NuGet\r\n",
                "    provider. Select **Yes** if this is the case.\r\n",
                "\r\n",
                "3.  You may receive a warning message stating you are installing modules\r\n",
                "    from an untrusted repository. Select **Yes** if this is the case.\r\n",
                "    This process may take several minutes.\r\n",
                "\r\n",
                "4.  Run the following PowerShell Command to verify the module has\r\n",
                "    installed correctly:"
            ],
            "metadata": {
                "azdata_cell_guid": "540dacd2-2280-46e5-878b-7830c99f0186"
            }
        },
        {
            "cell_type": "code",
            "source": [
                "Get-Module -Name '*Az*' -ListAvailable"
            ],
            "metadata": {
                "azdata_cell_guid": "274aa88a-01ea-4aa1-9e01-3d6c57d9bd38"
            },
            "outputs": [],
            "execution_count": 0
        },
        {
            "cell_type": "markdown",
            "source": [
                "\r\n",
                "5.  If installed, Az should be returned\r\n",
                "\r\n",
                "6.  Run the following PowerShell Command to turn off autosaving Azure\r\n",
                "    credentials\\\r\n",
                "    (some Azure PowerShell versions have this on as the default)"
            ],
            "metadata": {
                "azdata_cell_guid": "f71acc89-7b8c-473b-ba55-579125eba907"
            }
        },
        {
            "cell_type": "code",
            "source": [
                "Disable-AzContextAutosave"
            ],
            "metadata": {
                "azdata_cell_guid": "54823ca1-fcd3-441c-b3a3-19fe49c8beca"
            },
            "outputs": [],
            "execution_count": 0
        },
        {
            "cell_type": "markdown",
            "source": [
                "Expected return:\r\n",
                "\r\n",
                "> PS C:\\\\\\> Disable-AzContextAutosave\r\n",
                ">\r\n",
                "> Mode : Process\r\n",
                ">\r\n",
                "> ContextDirectory :\r\n",
                ">\r\n",
                "> ContextFile :\r\n",
                ">\r\n",
                "> CacheDirectory :\r\n",
                ">\r\n",
                "> CacheFile :\r\n",
                ">\r\n",
                "> Settings : {}\r\n",
                "\r\n",
                "<div style=\"page-break-after: always;\"></div>\r\n",
                "\r\n",
                "## Exercise - Setup Git for Windows\r\n",
                "\r\n",
                "### Download Git for Windows Installation Files\r\n",
                "\r\n",
                "1.  In a web browser, navigate to <https://git-scm.com/download/win>\r\n",
                "\r\n",
                "2.  The 64-bit version of **Git for Windows** should begin automatically\r\n",
                "    downloading, if it does not select **64-bit Git for Windows Setup**\r\n",
                "\r\n",
                "3.  Note the location of the installation files\r\n",
                "\r\n",
                "### Install Git for Windows\r\n",
                "\r\n",
                "1.  Run the **Git for Windows** installation file\r\n",
                "\r\n",
                "2.  Accept the EULA by clicking **Next**\r\n",
                "\r\n",
                "3.  Accept the default Destination Location and click **Next**\r\n",
                "\r\n",
                "4.  Accept the default Components and click **Next**\r\n",
                "\r\n",
                "5.  Accept the default Start Menu Folder of \"Git\" and click **Next**\r\n",
                "\r\n",
                "6.  Accept the default editor of Vim and click **Next**\r\n",
                "\r\n",
                "7.  Accept the default \"Git from the command line and also from\r\n",
                "    3rd-party software\" and click **Next**\r\n",
                "\r\n",
                "8.  Accept **OpenSSL** as the default HTTPS transport backend and click\r\n",
                "    **Next**\r\n",
                "\r\n",
                "9.  Accept the default **Windows-style** \"Configuring the line ending\r\n",
                "    conversions\" and click **Next**\r\n",
                "\r\n",
                "10. Accept the default **MinTTY** terminal emulator and click **Next**\r\n",
                "\r\n",
                "11. Accept the default Configuring extra options and click **Next**\r\n",
                "\r\n",
                "12. Click **Install**\r\n",
                "\r\n",
                "13. Uncheck \"View Release Notes\" and click **Finish**\r\n",
                "\r\n",
                "<div style=\"page-break-after: always;\"></div>"
            ],
            "metadata": {
                "azdata_cell_guid": "6991bf09-f3ed-4e22-9d11-5cba0ae17af8"
            }
        }
    ]
}